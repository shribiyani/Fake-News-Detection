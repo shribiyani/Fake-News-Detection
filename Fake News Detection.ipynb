{
 "cells": [
  {
   "cell_type": "markdown",
   "metadata": {},
   "source": [
    "# FAKE NEWS DETECTION -\n",
    "\n",
    "#### What is Fake News? \n",
    "\n",
    "   + A type of **yellow journalism**, fake news encapsulates pieces of news which may be hoaxes and generally spread through social media and other online media. This is often done to further or impose certain ideas and often achieved with political agendas. Such news items may contain false and/or exaggerated claims, and may end up being viralized by algorithms, and users may end up in a filter bubble.\n",
    "   \n",
    "#### Objective\n",
    "   \n",
    "   + To build a model to accurately classify a piece of news as REAL or FAKE.\n",
    "   \n",
    "   \n"
   ]
  },
  {
   "cell_type": "markdown",
   "metadata": {},
   "source": [
    "### 1. Loading Libraries"
   ]
  },
  {
   "cell_type": "code",
   "execution_count": 2,
   "metadata": {},
   "outputs": [],
   "source": [
    "import pandas as pd # for data manipulation\n",
    "import numpy as np # for linear algebra & calculation\n",
    "\n",
    "import matplotlib.pyplot as plt\n",
    "import seaborn as sns\n",
    "#import plotly as ply\n",
    "\n",
    "from sklearn.model_selection import train_test_split\n",
    "from sklearn.feature_extraction.text import TfidfVectorizer\n",
    "from sklearn.linear_model import PassiveAggressiveClassifier\n",
    "from sklearn.metrics import accuracy_score, confusion_matrix\n"
   ]
  },
  {
   "cell_type": "markdown",
   "metadata": {},
   "source": [
    "### 2. Loading Data"
   ]
  },
  {
   "cell_type": "code",
   "execution_count": 8,
   "metadata": {},
   "outputs": [
    {
     "name": "stdout",
     "output_type": "stream",
     "text": [
      "The Fake news dataset consist 6335 rows and 4 columns respectively. \n",
      "\n"
     ]
    },
    {
     "data": {
      "text/html": [
       "<div>\n",
       "<style scoped>\n",
       "    .dataframe tbody tr th:only-of-type {\n",
       "        vertical-align: middle;\n",
       "    }\n",
       "\n",
       "    .dataframe tbody tr th {\n",
       "        vertical-align: top;\n",
       "    }\n",
       "\n",
       "    .dataframe thead th {\n",
       "        text-align: right;\n",
       "    }\n",
       "</style>\n",
       "<table border=\"1\" class=\"dataframe\">\n",
       "  <thead>\n",
       "    <tr style=\"text-align: right;\">\n",
       "      <th></th>\n",
       "      <th>Unnamed: 0</th>\n",
       "      <th>title</th>\n",
       "      <th>text</th>\n",
       "      <th>label</th>\n",
       "    </tr>\n",
       "  </thead>\n",
       "  <tbody>\n",
       "    <tr>\n",
       "      <th>0</th>\n",
       "      <td>8476</td>\n",
       "      <td>You Can Smell Hillary’s Fear</td>\n",
       "      <td>Daniel Greenfield, a Shillman Journalism Fello...</td>\n",
       "      <td>FAKE</td>\n",
       "    </tr>\n",
       "    <tr>\n",
       "      <th>1</th>\n",
       "      <td>10294</td>\n",
       "      <td>Watch The Exact Moment Paul Ryan Committed Pol...</td>\n",
       "      <td>Google Pinterest Digg Linkedin Reddit Stumbleu...</td>\n",
       "      <td>FAKE</td>\n",
       "    </tr>\n",
       "    <tr>\n",
       "      <th>2</th>\n",
       "      <td>3608</td>\n",
       "      <td>Kerry to go to Paris in gesture of sympathy</td>\n",
       "      <td>U.S. Secretary of State John F. Kerry said Mon...</td>\n",
       "      <td>REAL</td>\n",
       "    </tr>\n",
       "    <tr>\n",
       "      <th>3</th>\n",
       "      <td>10142</td>\n",
       "      <td>Bernie supporters on Twitter erupt in anger ag...</td>\n",
       "      <td>— Kaydee King (@KaydeeKing) November 9, 2016 T...</td>\n",
       "      <td>FAKE</td>\n",
       "    </tr>\n",
       "    <tr>\n",
       "      <th>4</th>\n",
       "      <td>875</td>\n",
       "      <td>The Battle of New York: Why This Primary Matters</td>\n",
       "      <td>It's primary day in New York and front-runners...</td>\n",
       "      <td>REAL</td>\n",
       "    </tr>\n",
       "  </tbody>\n",
       "</table>\n",
       "</div>"
      ],
      "text/plain": [
       "   Unnamed: 0                                              title  \\\n",
       "0        8476                       You Can Smell Hillary’s Fear   \n",
       "1       10294  Watch The Exact Moment Paul Ryan Committed Pol...   \n",
       "2        3608        Kerry to go to Paris in gesture of sympathy   \n",
       "3       10142  Bernie supporters on Twitter erupt in anger ag...   \n",
       "4         875   The Battle of New York: Why This Primary Matters   \n",
       "\n",
       "                                                text label  \n",
       "0  Daniel Greenfield, a Shillman Journalism Fello...  FAKE  \n",
       "1  Google Pinterest Digg Linkedin Reddit Stumbleu...  FAKE  \n",
       "2  U.S. Secretary of State John F. Kerry said Mon...  REAL  \n",
       "3  — Kaydee King (@KaydeeKing) November 9, 2016 T...  FAKE  \n",
       "4  It's primary day in New York and front-runners...  REAL  "
      ]
     },
     "execution_count": 8,
     "metadata": {},
     "output_type": "execute_result"
    }
   ],
   "source": [
    "fake_news = pd.read_csv(\"news.csv\")\n",
    "print(f\"The Fake news dataset consist {fake_news.shape[0]} rows and {fake_news.shape[1]} columns respectively. \\n\")\n",
    "fake_news.head()"
   ]
  },
  {
   "cell_type": "code",
   "execution_count": 6,
   "metadata": {},
   "outputs": [
    {
     "name": "stdout",
     "output_type": "stream",
     "text": [
      "<class 'pandas.core.frame.DataFrame'>\n",
      "RangeIndex: 6335 entries, 0 to 6334\n",
      "Data columns (total 4 columns):\n",
      " #   Column      Non-Null Count  Dtype \n",
      "---  ------      --------------  ----- \n",
      " 0   Unnamed: 0  6335 non-null   int64 \n",
      " 1   title       6335 non-null   object\n",
      " 2   text        6335 non-null   object\n",
      " 3   label       6335 non-null   object\n",
      "dtypes: int64(1), object(3)\n",
      "memory usage: 198.1+ KB\n"
     ]
    }
   ],
   "source": [
    "fake_news.info()"
   ]
  },
  {
   "cell_type": "code",
   "execution_count": 9,
   "metadata": {},
   "outputs": [
    {
     "data": {
      "text/plain": [
       "array(['FAKE', 'REAL'], dtype=object)"
      ]
     },
     "execution_count": 9,
     "metadata": {},
     "output_type": "execute_result"
    }
   ],
   "source": [
    "# get the labels from dataset\n",
    "\n",
    "labels = fake_news['label']\n",
    "labels.unique()"
   ]
  },
  {
   "cell_type": "code",
   "execution_count": 11,
   "metadata": {},
   "outputs": [
    {
     "data": {
      "text/plain": [
       "<matplotlib.axes._subplots.AxesSubplot at 0xb572e40ee0>"
      ]
     },
     "execution_count": 11,
     "metadata": {},
     "output_type": "execute_result"
    },
    {
     "data": {
      "image/png": "[encoded data removed]",
      "text/plain": [
       "<Figure size 576x432 with 1 Axes>"
      ]
     },
     "metadata": {
      "needs_background": "light"
     },
     "output_type": "display_data"
    }
   ],
   "source": [
    "labels.value_counts().plot.bar(figsize = (8,6))"
   ]
  },
  {
   "cell_type": "code",
   "execution_count": 26,
   "metadata": {},
   "outputs": [
    {
     "data": {
      "text/plain": [
       "0     Daniel Greenfield, a Shillman Journalism Fello...\n",
       "1     Google Pinterest Digg Linkedin Reddit Stumbleu...\n",
       "2     U.S. Secretary of State John F. Kerry said Mon...\n",
       "3     — Kaydee King (@KaydeeKing) November 9, 2016 T...\n",
       "4     It's primary day in New York and front-runners...\n",
       "5       \\nI’m not an immigrant, but my grandparents ...\n",
       "6     Share This Baylee Luciani (left), Screenshot o...\n",
       "7     A Czech stockbroker who saved more than 650 Je...\n",
       "8     Hillary Clinton and Donald Trump made some ina...\n",
       "9     Iranian negotiators reportedly have made a las...\n",
       "10    CEDAR RAPIDS, Iowa — “I had one of the most wo...\n",
       "11    Donald Trump’s organizational problems have go...\n",
       "12    Click Here To Learn More About Alexandra's Per...\n",
       "13    October 31, 2016 at 4:52 am \\nPretty factual e...\n",
       "14    Killing Obama administration rules, dismantlin...\n",
       "Name: text, dtype: object"
      ]
     },
     "execution_count": 26,
     "metadata": {},
     "output_type": "execute_result"
    }
   ],
   "source": [
    "fake_news.text.head(15)"
   ]
  },
  {
   "cell_type": "markdown",
   "metadata": {},
   "source": [
    "#### Splitting Data"
   ]
  },
  {
   "cell_type": "code",
   "execution_count": 13,
   "metadata": {},
   "outputs": [
    {
     "name": "stdout",
     "output_type": "stream",
     "text": [
      "X_train & X_test sets shape : (5068,) & (1267,)\n",
      "y_train & y_test sets shape respectively : (5068,) & (1267,)\n"
     ]
    }
   ],
   "source": [
    "X_train, X_test, y_train, y_test = train_test_split(fake_news['text'], labels, test_size = 0.20, random_state = 7)\n",
    "\n",
    "print(f\"X_train & X_test sets shape : {X_train.shape} & {X_test.shape}\")\n",
    "print(f\"y_train & y_test sets shape respectively : {y_train.shape} & {y_test.shape}\")"
   ]
  },
  {
   "cell_type": "code",
   "execution_count": 21,
   "metadata": {},
   "outputs": [
    {
     "name": "stdout",
     "output_type": "stream",
     "text": [
      "X_Train Transform : \n",
      "****************************************\n",
      "  (0, 56381)\t0.03622223988286098\n",
      "  (0, 16314)\t0.053492157980948106\n",
      "  (0, 19620)\t0.030351855107005405\n",
      "  (0, 52607)\t0.04266045446208797\n",
      "  (0, 14900)\t0.039165339742818085\n",
      "  (0, 53749)\t0.029756205182552464\n",
      "  (0, 15211)\t0.07772572986248194\n",
      "  (0, 61154)\t0.06726619958695557\n",
      "  (0, 59042)\t0.047893261248723944\n",
      "  (0, 42972)\t0.03152542343098286\n",
      "  (0, 54232)\t0.038673616329284524\n",
      "  (0, 59249)\t0.04106143649018827\n",
      "  (0, 28891)\t0.06514397995138038\n",
      "  (0, 41708)\t0.03983513460128018\n",
      "  (0, 50192)\t0.045331181477256094\n",
      "  (0, 44691)\t0.0318676439567658\n",
      "  (0, 11820)\t0.046381950858248124\n",
      "  (0, 7682)\t0.04137048243377956\n",
      "  (0, 50343)\t0.10196965191544219\n",
      "  (0, 48095)\t0.021092647294770877\n",
      "  (0, 17916)\t0.03674587236023286\n",
      "  (0, 46027)\t0.10236534701241509\n",
      "  (0, 16993)\t0.02775494464904786\n",
      "  (0, 55006)\t0.03368300200002207\n",
      "  (0, 51389)\t0.03397042876291898\n",
      "  :\t:\n",
      "  (5067, 32909)\t0.09429823872256275\n",
      "  (5067, 59221)\t0.11305513144362901\n",
      "  (5067, 14649)\t0.03772971846597005\n",
      "  (5067, 55827)\t0.2218263076177088\n",
      "  (5067, 10398)\t0.029198031075976353\n",
      "  (5067, 46158)\t0.037013973826002855\n",
      "  (5067, 60684)\t0.022935168393493133\n",
      "  (5067, 53139)\t0.025628375412833703\n",
      "  (5067, 14556)\t0.04989667741743244\n",
      "  (5067, 59249)\t0.09370008504693801\n",
      "  (5067, 48095)\t0.09626467139586602\n",
      "  (5067, 54706)\t0.02438296419332449\n",
      "  (5067, 54235)\t0.18013712617861882\n",
      "  (5067, 23649)\t0.11715980750719378\n",
      "  (5067, 60291)\t0.02511088091736429\n",
      "  (5067, 30025)\t0.07803429885512414\n",
      "  (5067, 4919)\t0.039597295646358985\n",
      "  (5067, 24041)\t0.031458613144788115\n",
      "  (5067, 51148)\t0.03759621365205542\n",
      "  (5067, 47648)\t0.051281746021764794\n",
      "  (5067, 40793)\t0.12848334208123888\n",
      "  (5067, 57811)\t0.028627812267104712\n",
      "  (5067, 51968)\t0.04662099560930727\n",
      "  (5067, 57236)\t0.05398142449766798\n",
      "  (5067, 24260)\t0.029565269989545447\n"
     ]
    }
   ],
   "source": [
    "# Initialize TF-IDF Vectorize\n",
    "tfidf_vectorizer = TfidfVectorizer(stop_words = 'english', max_df = 0.7)\n",
    "\n",
    "# Fit and transform train set and test set respectively\n",
    "train_tfidf = tfidf_vectorizer.fit_transform(X_train)\n",
    "test_tfidf = tfidf_vectorizer.transform(X_test)\n",
    "\n",
    "# Checking transformation done or not\n",
    "print(\"X_Train Transform : \")\n",
    "print(\"*\"*40)\n",
    "print(train_tfidf)"
   ]
  },
  {
   "cell_type": "code",
   "execution_count": 34,
   "metadata": {},
   "outputs": [
    {
     "name": "stdout",
     "output_type": "stream",
     "text": [
      ">>> Accuracy on Test Set : 92.9\n",
      ">>> Accuracy on Train Set : 100.0\n"
     ]
    }
   ],
   "source": [
    "# Initialize a PassiveAggressiveClassifier\n",
    "pac = PassiveAggressiveClassifier(max_iter = 50, random_state = 48)\n",
    "pac.fit(train_tfidf, y_train)\n",
    "\n",
    "# Predict on the test set and calculate accuracy\n",
    "y_pred = pac.predict(test_tfidf)\n",
    "score = accuracy_score(y_test, y_pred)\n",
    "print(f\">>> Accuracy on Test Set : {round(score * 100, 2)}\")\n",
    "\n",
    "# Predict on train set & calculate accuracy\n",
    "y_hat = pac.predict(train_tfidf)\n",
    "score_1 = accuracy_score(y_train, y_hat)\n",
    "print(f\">>> Accuracy on Train Set : {round(score_1 * 100, 2)}\")"
   ]
  },
  {
   "cell_type": "code",
   "execution_count": 35,
   "metadata": {},
   "outputs": [
    {
     "data": {
      "text/plain": [
       "array([[590,  48],\n",
       "       [ 42, 587]], dtype=int64)"
      ]
     },
     "execution_count": 35,
     "metadata": {},
     "output_type": "execute_result"
    }
   ],
   "source": [
    "# Built a confusion matrix\n",
    "confusion_matrix(y_test, y_pred, labels = ['FAKE','REAL'])"
   ]
  },
  {
   "cell_type": "code",
   "execution_count": 36,
   "metadata": {},
   "outputs": [
    {
     "data": {
      "text/plain": [
       "array([[2526,    0],\n",
       "       [   0, 2542]], dtype=int64)"
      ]
     },
     "execution_count": 36,
     "metadata": {},
     "output_type": "execute_result"
    }
   ],
   "source": [
    "confusion_matrix(y_train, y_hat, labels = ['FAKE','REAL'])"
   ]
  },
  {
   "cell_type": "code",
   "execution_count": null,
   "metadata": {},
   "outputs": [],
   "source": []
  }
 ],
 "metadata": {
  "kernelspec": {
   "display_name": "Python 3",
   "language": "python",
   "name": "python3"
  },
  "language_info": {
   "codemirror_mode": {
    "name": "ipython",
    "version": 3
   },
   "file_extension": ".py",
   "mimetype": "text/x-python",
   "name": "python",
   "nbconvert_exporter": "python",
   "pygments_lexer": "ipython3",
   "version": "3.8.3"
  }
 },
 "nbformat": 4,
 "nbformat_minor": 4
}
